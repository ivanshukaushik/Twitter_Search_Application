{
 "cells": [
  {
   "cell_type": "code",
   "execution_count": 4,
   "id": "766342ff",
   "metadata": {},
   "outputs": [],
   "source": [
    "import os\n",
    "from pymongo import MongoClient\n",
    "import pymongo\n",
    "from pymongo.server_api import ServerApi\n",
    "from urllib.parse import quote_plus\n",
    "import json"
   ]
  },
  {
   "cell_type": "markdown",
   "id": "8c6a2b56",
   "metadata": {},
   "source": []
  },
  {
   "cell_type": "code",
   "execution_count": 5,
   "id": "3f5a4c32",
   "metadata": {},
   "outputs": [],
   "source": [
    "## Preprocess and upload data into MongoDB Server\n",
    "with open('./data/corona-out-2') as f:\n",
    "    all_lines_list = f.readlines()\n",
    "filtered_json_list = [json.loads(line) for line in all_lines_list if line.strip()]"
   ]
  },
  {
   "cell_type": "code",
   "execution_count": 32,
   "id": "5c61413b",
   "metadata": {},
   "outputs": [
    {
     "name": "stdout",
     "output_type": "stream",
     "text": [
      "Data inserted successfully.\n"
     ]
    }
   ],
   "source": [
    "all_tweets = []\n",
    "i = 0\n",
    "for each_record in filtered_json_list:\n",
    "    if i == 5000:\n",
    "        break\n",
    "    records_dict = {}\n",
    "    for each_col in each_record:\n",
    "        if each_col == 'user':\n",
    "            records_dict['user'] = each_record[each_col]['screen_name']\n",
    "            for each_user_col in each_record[each_col]:\n",
    "                records_dict[each_user_col] = each_record[each_col][each_user_col]\n",
    "        ## Inside tweet as new tweet.\n",
    "        elif each_col in ['retweeted_status','quoted_status']:\n",
    "            records_dict_2 = {}\n",
    "            for each_sub_col in each_record[each_col]:\n",
    "                if each_sub_col == 'user':\n",
    "                    \n",
    "                    records_dict_2['user'] = each_record[each_col]['user']['screen_name']\n",
    "                    # records_dict_2[each_sub_col] = each_record[each_col][each_sub_col]\n",
    "                else:\n",
    "                    records_dict_2[each_sub_col] = each_record[each_col][each_sub_col]\n",
    "            all_tweets.append(records_dict_2)\n",
    "                \n",
    "        else: \n",
    "            records_dict[each_col] = each_record[each_col]\n",
    "    all_tweets.append(records_dict)\n",
    "    i+=1\n",
    "\n",
    "client = pymongo.MongoClient(\"mongodb://localhost:27017/\")\n",
    "db = client['twitter']\n",
    "collection = db['TweetsData4.0']\n",
    "# collection.drop()\n",
    "collection.insert_many(all_tweets)\n",
    "print(\"Data inserted successfully.\")"
   ]
  },
  {
   "cell_type": "code",
   "execution_count": null,
   "id": "26437a1c",
   "metadata": {},
   "outputs": [],
   "source": []
  },
  {
   "cell_type": "code",
   "execution_count": 16,
   "id": "e2ba2f97",
   "metadata": {},
   "outputs": [],
   "source": []
  },
  {
   "cell_type": "code",
   "execution_count": null,
   "id": "29519b55",
   "metadata": {},
   "outputs": [],
   "source": []
  }
 ],
 "metadata": {
  "kernelspec": {
   "display_name": "Python 3 (ipykernel)",
   "language": "python",
   "name": "python3"
  },
  "language_info": {
   "codemirror_mode": {
    "name": "ipython",
    "version": 3
   },
   "file_extension": ".py",
   "mimetype": "text/x-python",
   "name": "python",
   "nbconvert_exporter": "python",
   "pygments_lexer": "ipython3",
   "version": "3.11.4"
  }
 },
 "nbformat": 4,
 "nbformat_minor": 5
}
