{
 "cells": [
  {
   "cell_type": "code",
   "execution_count": 1,
   "id": "ddc16eaf",
   "metadata": {},
   "outputs": [],
   "source": [
    "import json"
   ]
  },
  {
   "cell_type": "code",
   "execution_count": 16,
   "id": "6ddd8a3c",
   "metadata": {},
   "outputs": [],
   "source": [
    "## Preprocess and upload data into MongoDB Server\n",
    "with open('./data/corona-out-3') as f:\n",
    "    all_lines_list = f.readlines()\n",
    "filtered_json_list = [json.loads(line) for line in all_lines_list if line.strip()]"
   ]
  },
  {
   "cell_type": "code",
   "execution_count": 15,
   "id": "176f9bd1",
   "metadata": {},
   "outputs": [
    {
     "name": "stdout",
     "output_type": "stream",
     "text": [
      "0\n"
     ]
    }
   ],
   "source": [
    "count = 0\n",
    "for i in filtered_json_list:\n",
    "    try:\n",
    "        if i['retweet_count'] > 0:\n",
    "            count+=1\n",
    "    except Exception as e:\n",
    "        print(e)\n",
    "print(count)"
   ]
  }
 ],
 "metadata": {
  "kernelspec": {
   "display_name": "Python 3 (ipykernel)",
   "language": "python",
   "name": "python3"
  },
  "language_info": {
   "codemirror_mode": {
    "name": "ipython",
    "version": 3
   },
   "file_extension": ".py",
   "mimetype": "text/x-python",
   "name": "python",
   "nbconvert_exporter": "python",
   "pygments_lexer": "ipython3",
   "version": "3.11.4"
  }
 },
 "nbformat": 4,
 "nbformat_minor": 5
}
